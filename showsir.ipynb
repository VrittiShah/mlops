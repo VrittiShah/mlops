{
  "nbformat": 4,
  "nbformat_minor": 0,
  "metadata": {
    "colab": {
      "provenance": []
    },
    "kernelspec": {
      "name": "python3",
      "display_name": "Python 3"
    },
    "language_info": {
      "name": "python"
    }
  },
  "cells": [
    {
      "cell_type": "code",
      "execution_count": null,
      "metadata": {
        "colab": {
          "base_uri": "https://localhost:8080/"
        },
        "id": "SpLWA3Je8NJw",
        "outputId": "c13c13e8-bd69-43f5-d951-bbc152d55a49"
      },
      "outputs": [
        {
          "output_type": "stream",
          "name": "stdout",
          "text": [
            "Collecting pyspark\n",
            "  Downloading pyspark-3.5.0.tar.gz (316.9 MB)\n",
            "\u001b[2K     \u001b[90m━━━━━━━━━━━━━━━━━━━━━━━━━━━━━━━━━━━━━━━━\u001b[0m \u001b[32m316.9/316.9 MB\u001b[0m \u001b[31m4.8 MB/s\u001b[0m eta \u001b[36m0:00:00\u001b[0m\n",
            "\u001b[?25h  Preparing metadata (setup.py) ... \u001b[?25l\u001b[?25hdone\n",
            "Requirement already satisfied: py4j==0.10.9.7 in /usr/local/lib/python3.10/dist-packages (from pyspark) (0.10.9.7)\n",
            "Building wheels for collected packages: pyspark\n",
            "  Building wheel for pyspark (setup.py) ... \u001b[?25l\u001b[?25hdone\n",
            "  Created wheel for pyspark: filename=pyspark-3.5.0-py2.py3-none-any.whl size=317425344 sha256=873247d96ed69f13305e97e28a4260d624d769f188af1c6d13ca0f6b8b3fc8b8\n",
            "  Stored in directory: /root/.cache/pip/wheels/41/4e/10/c2cf2467f71c678cfc8a6b9ac9241e5e44a01940da8fbb17fc\n",
            "Successfully built pyspark\n",
            "Installing collected packages: pyspark\n",
            "Successfully installed pyspark-3.5.0\n"
          ]
        }
      ],
      "source": [
        "pip install pyspark"
      ]
    },
    {
      "cell_type": "code",
      "source": [
        "import pandas as pd\n",
        "import numpy as np\n",
        "import matplotlib.pyplot as plt"
      ],
      "metadata": {
        "id": "_BRCvopu8OlX"
      },
      "execution_count": null,
      "outputs": []
    },
    {
      "cell_type": "code",
      "source": [
        "from pyspark.sql import SparkSession"
      ],
      "metadata": {
        "id": "GiaSns9J8P5t"
      },
      "execution_count": null,
      "outputs": []
    },
    {
      "cell_type": "code",
      "source": [
        "spark=SparkSession.builder.appName('Missing').getOrCreate()"
      ],
      "metadata": {
        "id": "bFNhhWkF8SPd"
      },
      "execution_count": null,
      "outputs": []
    },
    {
      "cell_type": "code",
      "source": [
        "training = spark.read.csv('customer_shopping_data.csv', header=True, inferSchema=True)"
      ],
      "metadata": {
        "id": "zcfkRBZW8T3u"
      },
      "execution_count": null,
      "outputs": []
    },
    {
      "cell_type": "code",
      "source": [
        "training.show()"
      ],
      "metadata": {
        "colab": {
          "base_uri": "https://localhost:8080/"
        },
        "id": "JFpOpoQH8Vgu",
        "outputId": "3095d750-d677-456a-f7cd-7804b287a180"
      },
      "execution_count": null,
      "outputs": [
        {
          "output_type": "stream",
          "name": "stdout",
          "text": [
            "+----------+-----------+------+---+---------------+--------+-------+--------------+------------+-----------------+\n",
            "|invoice_no|customer_id|gender|age|       category|quantity|  price|payment_method|invoice_date|    shopping_mall|\n",
            "+----------+-----------+------+---+---------------+--------+-------+--------------+------------+-----------------+\n",
            "|   I138884|    C241288|Female| 28|       Clothing|       5| 1500.4|   Credit Card|    5/8/2022|           Kanyon|\n",
            "|   I317333|    C111565|  Male| 21|          Shoes|       3|1800.51|    Debit Card|  12/12/2021|   Forum Istanbul|\n",
            "|   I127801|    C266599|  Male| 20|       Clothing|       1| 300.08|          Cash|   9/11/2021|        Metrocity|\n",
            "|   I173702|    C988172|Female| 66|          Shoes|       5|3000.85|   Credit Card|  16/05/2021|     Metropol AVM|\n",
            "|   I337046|    C189076|Female| 53|          Books|       4|   60.6|          Cash|  24/10/2021|           Kanyon|\n",
            "|   I227836|    C657758|Female| 28|       Clothing|       5| 1500.4|   Credit Card|  24/05/2022|   Forum Istanbul|\n",
            "|   I121056|    C151197|Female| 49|      Cosmetics|       1|  40.66|          Cash|  13/03/2022|     Istinye Park|\n",
            "|   I293112|    C176086|Female| 32|       Clothing|       2| 600.16|   Credit Card|  13/01/2021| Mall of Istanbul|\n",
            "|   I293455|    C159642|  Male| 69|       Clothing|       3| 900.24|   Credit Card|   4/11/2021|        Metrocity|\n",
            "|   I326945|    C283361|Female| 60|       Clothing|       2| 600.16|   Credit Card|  22/08/2021|           Kanyon|\n",
            "|   I306368|    C240286|Female| 36|Food & Beverage|       2|  10.46|          Cash|  25/12/2022|        Metrocity|\n",
            "|   I139207|    C191708|Female| 29|          Books|       1|  15.15|   Credit Card|  28/10/2022|Emaar Square Mall|\n",
            "|   I640508|    C225330|Female| 67|           Toys|       4| 143.36|    Debit Card|  31/07/2022|        Metrocity|\n",
            "|   I179802|    C312861|  Male| 25|       Clothing|       2| 600.16|          Cash|  17/11/2022|      Cevahir AVM|\n",
            "|   I336189|    C555402|Female| 67|       Clothing|       2| 600.16|   Credit Card|    3/6/2022|           Kanyon|\n",
            "|   I688768|    C362288|  Male| 24|          Shoes|       5|3000.85|   Credit Card|   7/11/2021|   Viaport Outlet|\n",
            "|   I294687|    C300786|  Male| 65|          Books|       2|   30.3|    Debit Card|  16/01/2021|        Metrocity|\n",
            "|   I195744|    C330667|Female| 42|Food & Beverage|       3|  15.69|   Credit Card|    5/1/2022|     Zorlu Center|\n",
            "|   I993048|    C218149|Female| 46|       Clothing|       2| 600.16|          Cash|  26/07/2021|     Metropol AVM|\n",
            "|   I992454|    C196845|  Male| 24|           Toys|       4| 143.36|          Cash|    7/3/2023|      Cevahir AVM|\n",
            "+----------+-----------+------+---+---------------+--------+-------+--------------+------------+-----------------+\n",
            "only showing top 20 rows\n",
            "\n"
          ]
        }
      ]
    },
    {
      "cell_type": "code",
      "source": [
        "training.columns"
      ],
      "metadata": {
        "colab": {
          "base_uri": "https://localhost:8080/"
        },
        "id": "MkBeoqXY8Xh9",
        "outputId": "82a909c3-3445-4351-d336-3a67d33fac1b"
      },
      "execution_count": null,
      "outputs": [
        {
          "output_type": "execute_result",
          "data": {
            "text/plain": [
              "['invoice_no',\n",
              " 'customer_id',\n",
              " 'gender',\n",
              " 'age',\n",
              " 'category',\n",
              " 'quantity',\n",
              " 'price',\n",
              " 'payment_method',\n",
              " 'invoice_date',\n",
              " 'shopping_mall']"
            ]
          },
          "metadata": {},
          "execution_count": 9
        }
      ]
    },
    {
      "cell_type": "code",
      "source": [
        "from pyspark.ml.feature import VectorAssembler"
      ],
      "metadata": {
        "id": "rxXFdsOk8YzU"
      },
      "execution_count": null,
      "outputs": []
    },
    {
      "cell_type": "code",
      "source": [
        "feature=VectorAssembler(inputCols=[\"age\",\"price\"],outputCol=\"input\")"
      ],
      "metadata": {
        "id": "SMrpQDly8b4E"
      },
      "execution_count": null,
      "outputs": []
    },
    {
      "cell_type": "code",
      "source": [
        "output=feature.transform(training)"
      ],
      "metadata": {
        "id": "nxA1GB388miN"
      },
      "execution_count": null,
      "outputs": []
    },
    {
      "cell_type": "code",
      "source": [
        "output.show()"
      ],
      "metadata": {
        "colab": {
          "base_uri": "https://localhost:8080/"
        },
        "id": "Oed0vMK98pxL",
        "outputId": "d7c1332d-6ee4-43c1-c277-995503f76b54"
      },
      "execution_count": null,
      "outputs": [
        {
          "output_type": "stream",
          "name": "stdout",
          "text": [
            "+----------+-----------+------+---+---------------+--------+-------+--------------+------------+-----------------+--------------+\n",
            "|invoice_no|customer_id|gender|age|       category|quantity|  price|payment_method|invoice_date|    shopping_mall|         input|\n",
            "+----------+-----------+------+---+---------------+--------+-------+--------------+------------+-----------------+--------------+\n",
            "|   I138884|    C241288|Female| 28|       Clothing|       5| 1500.4|   Credit Card|    5/8/2022|           Kanyon| [28.0,1500.4]|\n",
            "|   I317333|    C111565|  Male| 21|          Shoes|       3|1800.51|    Debit Card|  12/12/2021|   Forum Istanbul|[21.0,1800.51]|\n",
            "|   I127801|    C266599|  Male| 20|       Clothing|       1| 300.08|          Cash|   9/11/2021|        Metrocity| [20.0,300.08]|\n",
            "|   I173702|    C988172|Female| 66|          Shoes|       5|3000.85|   Credit Card|  16/05/2021|     Metropol AVM|[66.0,3000.85]|\n",
            "|   I337046|    C189076|Female| 53|          Books|       4|   60.6|          Cash|  24/10/2021|           Kanyon|   [53.0,60.6]|\n",
            "|   I227836|    C657758|Female| 28|       Clothing|       5| 1500.4|   Credit Card|  24/05/2022|   Forum Istanbul| [28.0,1500.4]|\n",
            "|   I121056|    C151197|Female| 49|      Cosmetics|       1|  40.66|          Cash|  13/03/2022|     Istinye Park|  [49.0,40.66]|\n",
            "|   I293112|    C176086|Female| 32|       Clothing|       2| 600.16|   Credit Card|  13/01/2021| Mall of Istanbul| [32.0,600.16]|\n",
            "|   I293455|    C159642|  Male| 69|       Clothing|       3| 900.24|   Credit Card|   4/11/2021|        Metrocity| [69.0,900.24]|\n",
            "|   I326945|    C283361|Female| 60|       Clothing|       2| 600.16|   Credit Card|  22/08/2021|           Kanyon| [60.0,600.16]|\n",
            "|   I306368|    C240286|Female| 36|Food & Beverage|       2|  10.46|          Cash|  25/12/2022|        Metrocity|  [36.0,10.46]|\n",
            "|   I139207|    C191708|Female| 29|          Books|       1|  15.15|   Credit Card|  28/10/2022|Emaar Square Mall|  [29.0,15.15]|\n",
            "|   I640508|    C225330|Female| 67|           Toys|       4| 143.36|    Debit Card|  31/07/2022|        Metrocity| [67.0,143.36]|\n",
            "|   I179802|    C312861|  Male| 25|       Clothing|       2| 600.16|          Cash|  17/11/2022|      Cevahir AVM| [25.0,600.16]|\n",
            "|   I336189|    C555402|Female| 67|       Clothing|       2| 600.16|   Credit Card|    3/6/2022|           Kanyon| [67.0,600.16]|\n",
            "|   I688768|    C362288|  Male| 24|          Shoes|       5|3000.85|   Credit Card|   7/11/2021|   Viaport Outlet|[24.0,3000.85]|\n",
            "|   I294687|    C300786|  Male| 65|          Books|       2|   30.3|    Debit Card|  16/01/2021|        Metrocity|   [65.0,30.3]|\n",
            "|   I195744|    C330667|Female| 42|Food & Beverage|       3|  15.69|   Credit Card|    5/1/2022|     Zorlu Center|  [42.0,15.69]|\n",
            "|   I993048|    C218149|Female| 46|       Clothing|       2| 600.16|          Cash|  26/07/2021|     Metropol AVM| [46.0,600.16]|\n",
            "|   I992454|    C196845|  Male| 24|           Toys|       4| 143.36|          Cash|    7/3/2023|      Cevahir AVM| [24.0,143.36]|\n",
            "+----------+-----------+------+---+---------------+--------+-------+--------------+------------+-----------------+--------------+\n",
            "only showing top 20 rows\n",
            "\n"
          ]
        }
      ]
    },
    {
      "cell_type": "code",
      "source": [
        "df=output.select(\"input\",\"quantity\")"
      ],
      "metadata": {
        "id": "hOm6mvWX8ryr"
      },
      "execution_count": null,
      "outputs": []
    },
    {
      "cell_type": "code",
      "source": [
        "df.show()"
      ],
      "metadata": {
        "colab": {
          "base_uri": "https://localhost:8080/"
        },
        "id": "LNiTRrTK8vhS",
        "outputId": "a49f727d-97e5-445c-e6d0-2beb2e05d1be"
      },
      "execution_count": null,
      "outputs": [
        {
          "output_type": "stream",
          "name": "stdout",
          "text": [
            "+--------------+--------+\n",
            "|         input|quantity|\n",
            "+--------------+--------+\n",
            "| [28.0,1500.4]|       5|\n",
            "|[21.0,1800.51]|       3|\n",
            "| [20.0,300.08]|       1|\n",
            "|[66.0,3000.85]|       5|\n",
            "|   [53.0,60.6]|       4|\n",
            "| [28.0,1500.4]|       5|\n",
            "|  [49.0,40.66]|       1|\n",
            "| [32.0,600.16]|       2|\n",
            "| [69.0,900.24]|       3|\n",
            "| [60.0,600.16]|       2|\n",
            "|  [36.0,10.46]|       2|\n",
            "|  [29.0,15.15]|       1|\n",
            "| [67.0,143.36]|       4|\n",
            "| [25.0,600.16]|       2|\n",
            "| [67.0,600.16]|       2|\n",
            "|[24.0,3000.85]|       5|\n",
            "|   [65.0,30.3]|       2|\n",
            "|  [42.0,15.69]|       3|\n",
            "| [46.0,600.16]|       2|\n",
            "| [24.0,143.36]|       4|\n",
            "+--------------+--------+\n",
            "only showing top 20 rows\n",
            "\n"
          ]
        }
      ]
    },
    {
      "cell_type": "code",
      "source": [
        "from pyspark.ml.regression import LinearRegression"
      ],
      "metadata": {
        "id": "PhSD8N5c80NT"
      },
      "execution_count": null,
      "outputs": []
    },
    {
      "cell_type": "code",
      "source": [
        "train_data,test_data = df.randomSplit([0.8,0.2])"
      ],
      "metadata": {
        "id": "fR8eN5Cr82mL"
      },
      "execution_count": null,
      "outputs": []
    },
    {
      "cell_type": "code",
      "source": [
        "reg=LinearRegression(featuresCol=\"input\",labelCol='quantity')"
      ],
      "metadata": {
        "id": "pfaTwoW084G6"
      },
      "execution_count": null,
      "outputs": []
    },
    {
      "cell_type": "code",
      "source": [
        "reg=reg.fit(train_data)"
      ],
      "metadata": {
        "id": "RxyjDnNr85pS"
      },
      "execution_count": null,
      "outputs": []
    },
    {
      "cell_type": "code",
      "source": [
        "reg.coefficients"
      ],
      "metadata": {
        "colab": {
          "base_uri": "https://localhost:8080/"
        },
        "id": "HbVu1Bmk8_Rb",
        "outputId": "7aeb9443-f238-4621-e74a-311590a19e20"
      },
      "execution_count": null,
      "outputs": [
        {
          "output_type": "execute_result",
          "data": {
            "text/plain": [
              "DenseVector([0.0007, 0.0005])"
            ]
          },
          "metadata": {},
          "execution_count": 22
        }
      ]
    },
    {
      "cell_type": "code",
      "source": [
        "reg.intercept"
      ],
      "metadata": {
        "colab": {
          "base_uri": "https://localhost:8080/"
        },
        "id": "Da7J8g_L9BQa",
        "outputId": "02d61fa5-635a-4f0c-a32d-e8bfc39f2441"
      },
      "execution_count": null,
      "outputs": [
        {
          "output_type": "execute_result",
          "data": {
            "text/plain": [
              "2.5930375616089334"
            ]
          },
          "metadata": {},
          "execution_count": 23
        }
      ]
    },
    {
      "cell_type": "code",
      "source": [
        "Pred_result=reg.evaluate(test_data)"
      ],
      "metadata": {
        "id": "WAgeW27p9C2y"
      },
      "execution_count": null,
      "outputs": []
    },
    {
      "cell_type": "code",
      "source": [
        "Pred_result.predictions.show()"
      ],
      "metadata": {
        "colab": {
          "base_uri": "https://localhost:8080/"
        },
        "id": "Jo_qRqKn9Elr",
        "outputId": "f9e2ad7c-9ee3-42b6-8e64-7ad31826124c"
      },
      "execution_count": null,
      "outputs": [
        {
          "output_type": "stream",
          "name": "stdout",
          "text": [
            "+-------------+--------+------------------+\n",
            "|        input|quantity|        prediction|\n",
            "+-------------+--------+------------------+\n",
            "|  [18.0,5.23]|       1| 2.608541013119544|\n",
            "|  [18.0,5.23]|       1| 2.608541013119544|\n",
            "|  [18.0,5.23]|       1| 2.608541013119544|\n",
            "| [18.0,10.46]|       2|2.6113080874891064|\n",
            "| [18.0,15.69]|       3|2.6140751618586684|\n",
            "| [18.0,15.69]|       3|2.6140751618586684|\n",
            "| [18.0,20.92]|       4|2.6168422362282304|\n",
            "| [18.0,23.46]|       2| 2.618186092614213|\n",
            "|  [18.0,30.3]|       2|2.6218049814646536|\n",
            "| [18.0,35.19]|       3|2.6243921695463284|\n",
            "| [18.0,35.84]|       1|2.6247360698025837|\n",
            "| [18.0,40.66]|       1|2.6272862224720464|\n",
            "| [18.0,45.45]|       3|  2.62982050282199|\n",
            "| [18.0,45.45]|       3|  2.62982050282199|\n",
            "|  [18.0,60.6]|       4|2.6378360241793257|\n",
            "| [18.0,75.75]|       5|2.6458515455366616|\n",
            "| [18.0,81.32]|       2|2.6487985061941113|\n",
            "| [18.0,81.32]|       2|2.6487985061941113|\n",
            "| [18.0,81.32]|       2|2.6487985061941113|\n",
            "|[18.0,162.64]|       4|2.6918230736382402|\n",
            "+-------------+--------+------------------+\n",
            "only showing top 20 rows\n",
            "\n"
          ]
        }
      ]
    },
    {
      "cell_type": "code",
      "source": [
        "Pred_result.meanAbsoluteError,Pred_result.meanSquaredError"
      ],
      "metadata": {
        "colab": {
          "base_uri": "https://localhost:8080/"
        },
        "id": "tpo06QiO9Gzr",
        "outputId": "889bcd4f-47b6-4871-b2b9-84f9f88a8e16"
      },
      "execution_count": null,
      "outputs": [
        {
          "output_type": "execute_result",
          "data": {
            "text/plain": [
              "(1.1763180385095802, 1.842447741004744)"
            ]
          },
          "metadata": {},
          "execution_count": 29
        }
      ]
    },
    {
      "cell_type": "code",
      "source": [],
      "metadata": {
        "id": "BDd3qGOe9Vhq"
      },
      "execution_count": null,
      "outputs": []
    }
  ]
}